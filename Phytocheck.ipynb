{
  "nbformat": 4,
  "nbformat_minor": 0,
  "metadata": {
    "colab": {
      "provenance": [],
      "authorship_tag": "ABX9TyPLfPXoRYusiDpp9cgz8gLA",
      "include_colab_link": true
    },
    "kernelspec": {
      "name": "python3",
      "display_name": "Python 3"
    },
    "language_info": {
      "name": "python"
    }
  },
  "cells": [
    {
      "cell_type": "markdown",
      "metadata": {
        "id": "view-in-github",
        "colab_type": "text"
      },
      "source": [
        "<a href=\"https://colab.research.google.com/github/Rishav-ctrl/PhytoCheck/blob/Basic-Python-Commands/Phytocheck.ipynb\" target=\"_parent\"><img src=\"https://colab.research.google.com/assets/colab-badge.svg\" alt=\"Open In Colab\"/></a>"
      ]
    },
    {
      "cell_type": "code",
      "source": [
        "#Mount Google Drive\n",
        "from google.colab import drive\n",
        "drive.mount('/content/drive')\n"
      ],
      "metadata": {
        "colab": {
          "base_uri": "https://localhost:8080/"
        },
        "id": "DfAtwcWS9nNZ",
        "outputId": "c18b96ee-55ba-4bdb-9cf5-c47be6434ffc"
      },
      "execution_count": 29,
      "outputs": [
        {
          "output_type": "stream",
          "name": "stdout",
          "text": [
            "Drive already mounted at /content/drive; to attempt to forcibly remount, call drive.mount(\"/content/drive\", force_remount=True).\n"
          ]
        }
      ]
    },
    {
      "cell_type": "code",
      "source": [
        "#Mount Google Drive\n",
        "from google.colab import drive\n",
        "drive.mount('/content/drive')\n",
        "\n",
        "\n",
        "#Import the kaggle.json and give permission\n",
        "!mkdir -p ~/.kaggle\n",
        "\n",
        "# Copy kaggle.json from Google Drive to the correct location\n",
        "!cp /content/drive/MyDrive/PhytoCheck/kaggle.json ~/.kaggle/\n",
        "\n",
        "# Set correct permissions\n",
        "!chmod 600 ~/.kaggle/kaggle.json\n"
      ],
      "metadata": {
        "colab": {
          "base_uri": "https://localhost:8080/"
        },
        "id": "bA9911xF9_LR",
        "outputId": "5ecf107e-3f27-4279-bf58-af350705498a"
      },
      "execution_count": 8,
      "outputs": [
        {
          "output_type": "stream",
          "name": "stdout",
          "text": [
            "Drive already mounted at /content/drive; to attempt to forcibly remount, call drive.mount(\"/content/drive\", force_remount=True).\n"
          ]
        }
      ]
    },
    {
      "cell_type": "code",
      "execution_count": 4,
      "metadata": {
        "colab": {
          "base_uri": "https://localhost:8080/"
        },
        "id": "ce9LnleEEBpA",
        "outputId": "e71e101b-36a8-48fc-dc08-c1ad60bf4a1d"
      },
      "outputs": [
        {
          "output_type": "stream",
          "name": "stdout",
          "text": [
            "Requirement already satisfied: numpy in /usr/local/lib/python3.10/dist-packages (1.26.4)\n",
            "Requirement already satisfied: pandas in /usr/local/lib/python3.10/dist-packages (2.2.2)\n",
            "Requirement already satisfied: matplotlib in /usr/local/lib/python3.10/dist-packages (3.8.0)\n",
            "Requirement already satisfied: opencv-python in /usr/local/lib/python3.10/dist-packages (4.10.0.84)\n",
            "Requirement already satisfied: python-dateutil>=2.8.2 in /usr/local/lib/python3.10/dist-packages (from pandas) (2.8.2)\n",
            "Requirement already satisfied: pytz>=2020.1 in /usr/local/lib/python3.10/dist-packages (from pandas) (2024.2)\n",
            "Requirement already satisfied: tzdata>=2022.7 in /usr/local/lib/python3.10/dist-packages (from pandas) (2024.2)\n",
            "Requirement already satisfied: contourpy>=1.0.1 in /usr/local/lib/python3.10/dist-packages (from matplotlib) (1.3.1)\n",
            "Requirement already satisfied: cycler>=0.10 in /usr/local/lib/python3.10/dist-packages (from matplotlib) (0.12.1)\n",
            "Requirement already satisfied: fonttools>=4.22.0 in /usr/local/lib/python3.10/dist-packages (from matplotlib) (4.55.3)\n",
            "Requirement already satisfied: kiwisolver>=1.0.1 in /usr/local/lib/python3.10/dist-packages (from matplotlib) (1.4.7)\n",
            "Requirement already satisfied: packaging>=20.0 in /usr/local/lib/python3.10/dist-packages (from matplotlib) (24.2)\n",
            "Requirement already satisfied: pillow>=6.2.0 in /usr/local/lib/python3.10/dist-packages (from matplotlib) (11.0.0)\n",
            "Requirement already satisfied: pyparsing>=2.3.1 in /usr/local/lib/python3.10/dist-packages (from matplotlib) (3.2.0)\n",
            "Requirement already satisfied: six>=1.5 in /usr/local/lib/python3.10/dist-packages (from python-dateutil>=2.8.2->pandas) (1.17.0)\n"
          ]
        }
      ],
      "source": [
        "# Installing Libraries\n",
        "!pip install numpy pandas matplotlib opencv-python\n"
      ]
    },
    {
      "cell_type": "code",
      "source": [
        "import tensorflow as tf\n",
        "import numpy as np\n",
        "import pandas as pd\n",
        "import matplotlib.pyplot as plt\n",
        "import cv2\n",
        "import os\n"
      ],
      "metadata": {
        "id": "QMZQcwajXgsK"
      },
      "execution_count": 6,
      "outputs": []
    },
    {
      "cell_type": "code",
      "source": [],
      "metadata": {
        "id": "PSbL3BYLXrhB"
      },
      "execution_count": null,
      "outputs": []
    },
    {
      "cell_type": "markdown",
      "source": [
        "**GitHub Commit** / **Just Ignore it bro**"
      ],
      "metadata": {
        "id": "8UOr5FSCDFER"
      }
    },
    {
      "cell_type": "code",
      "source": [
        "!git config --global user.name \"Rishav_ctrl\"\n",
        "!git config --global user.email \"shrawakagni@gmail.com\"\n",
        "!git clone https://github.com/Rishav-ctrl/PhytoCheck.git"
      ],
      "metadata": {
        "colab": {
          "base_uri": "https://localhost:8080/"
        },
        "id": "VcDApNv0DJ9l",
        "outputId": "cb42d0dc-30c1-482b-e472-4f6954a6bf40"
      },
      "execution_count": 27,
      "outputs": [
        {
          "output_type": "stream",
          "name": "stdout",
          "text": [
            "Cloning into 'PhytoCheck'...\n",
            "remote: Enumerating objects: 6, done.\u001b[K\n",
            "remote: Counting objects:  16% (1/6)\u001b[K\rremote: Counting objects:  33% (2/6)\u001b[K\rremote: Counting objects:  50% (3/6)\u001b[K\rremote: Counting objects:  66% (4/6)\u001b[K\rremote: Counting objects:  83% (5/6)\u001b[K\rremote: Counting objects: 100% (6/6)\u001b[K\rremote: Counting objects: 100% (6/6), done.\u001b[K\n",
            "remote: Compressing objects:  33% (1/3)\u001b[K\rremote: Compressing objects:  66% (2/3)\u001b[K\rremote: Compressing objects: 100% (3/3)\u001b[K\rremote: Compressing objects: 100% (3/3), done.\u001b[K\n",
            "remote: Total 6 (delta 0), reused 0 (delta 0), pack-reused 0 (from 0)\u001b[K\n",
            "Receiving objects:  16% (1/6)\rReceiving objects:  33% (2/6)\rReceiving objects:  50% (3/6)\rReceiving objects:  66% (4/6)\rReceiving objects:  83% (5/6)\rReceiving objects: 100% (6/6)\rReceiving objects: 100% (6/6), done.\n"
          ]
        }
      ]
    },
    {
      "cell_type": "code",
      "source": [
        "#Google Drive Folder\n",
        "\n",
        "dataset_path = '/content/drive/MyDrive/Plant_Detection_Project/Disease_Labels/PlantDiseasesDataset'  # Change this to your actual path\n",
        "potato_path = '/content/drive/MyDrive/Plant_Detection_Project/Disease_Labels/PlantDiseasesDataset/Potato'\n",
        "\n"
      ],
      "metadata": {
        "id": "oymCwIssX76C"
      },
      "execution_count": 31,
      "outputs": []
    },
    {
      "cell_type": "markdown",
      "source": [
        "**Copying All Files**"
      ],
      "metadata": {
        "id": "0pr1gVL3wJs3"
      }
    },
    {
      "cell_type": "code",
      "source": [
        "import os\n",
        "\n",
        "# List files in the Potato folder to check the structure\n",
        "os.listdir('/content/drive/MyDrive/Plant_Detection_Project/Disease_Labels/PlantDiseasesDataset/Potato')\n",
        "\n"
      ],
      "metadata": {
        "colab": {
          "base_uri": "https://localhost:8080/"
        },
        "id": "XDTWub7ZwCwS",
        "outputId": "84aa2589-8e9f-41a6-ec53-9c9c1c207a9e"
      },
      "execution_count": 33,
      "outputs": [
        {
          "output_type": "execute_result",
          "data": {
            "text/plain": [
              "['Potato___Early_blight',\n",
              " 'Potato___healthy',\n",
              " 'Potato___Late_blight',\n",
              " 'valid',\n",
              " 'train']"
            ]
          },
          "metadata": {},
          "execution_count": 33
        }
      ]
    },
    {
      "cell_type": "code",
      "source": [
        "# Define the source folders with the correct names\n",
        "source_folders = {\n",
        "    'Early_blight': f'{potato_path}/Potato___Early_blight',  # Corrected folder name with triple underscores\n",
        "    'Healthy': f'{potato_path}/Potato___healthy',  # Corrected folder name with triple underscores\n",
        "    'Late_blight': f'{potato_path}/Potato___Late_blight'  # Corrected folder name with triple underscores\n",
        "}\n"
      ],
      "metadata": {
        "id": "KxznJ6ngwp-J"
      },
      "execution_count": 34,
      "outputs": []
    },
    {
      "cell_type": "code",
      "source": [
        "import os\n",
        "import shutil\n",
        "from sklearn.model_selection import train_test_split\n",
        "\n",
        "# Define the path to the Potato dataset in Google Drive\n",
        "potato_path = '/content/drive/MyDrive/Plant_Detection_Project/Disease_Labels/PlantDiseasesDataset/Potato'\n",
        "\n",
        "# Create train and valid directories for Potato\n",
        "train_dir = f'{potato_path}/train'\n",
        "valid_dir = f'{potato_path}/valid'\n",
        "\n",
        "# Create the directories for training and validation\n",
        "os.makedirs(f'{train_dir}/Early_blight', exist_ok=True)\n",
        "os.makedirs(f'{train_dir}/Healthy', exist_ok=True)\n",
        "os.makedirs(f'{train_dir}/Late_blight', exist_ok=True)\n",
        "\n",
        "os.makedirs(f'{valid_dir}/Early_blight', exist_ok=True)\n",
        "os.makedirs(f'{valid_dir}/Healthy', exist_ok=True)\n",
        "os.makedirs(f'{valid_dir}/Late_blight', exist_ok=True)\n",
        "\n",
        "# Define the source folders for the classes with correct folder names (triple underscores)\n",
        "source_folders = {\n",
        "    'Early_blight': f'{potato_path}/Potato___Early_blight',  # Corrected folder name\n",
        "    'Healthy': f'{potato_path}/Potato___healthy',  # Corrected folder name\n",
        "    'Late_blight': f'{potato_path}/Potato___Late_blight'  # Corrected folder name\n",
        "}\n",
        "\n",
        "# Function to copy images to train and valid directories\n",
        "def copy_images(source_folder, target_train, target_valid, test_size=0.2):\n",
        "    # Get the list of image files in the source folder\n",
        "    images = os.listdir(source_folder)\n",
        "\n",
        "    # Split into train and validation sets\n",
        "    train_images, valid_images = train_test_split(images, test_size=test_size, random_state=42)\n",
        "\n",
        "    # Copy images to train directory\n",
        "    for img in train_images:\n",
        "        shutil.copy(os.path.join(source_folder, img), os.path.join(target_train, img))\n",
        "\n",
        "    # Copy images to valid directory\n",
        "    for img in valid_images:\n",
        "        shutil.copy(os.path.join(source_folder, img), os.path.join(target_valid, img))\n",
        "\n",
        "# Copy images for each class\n",
        "for disease, source_folder in source_folders.items():\n",
        "    target_train = f'{train_dir}/{disease}'\n",
        "    target_valid = f'{valid_dir}/{disease}'\n",
        "\n",
        "    copy_images(source_folder, target_train, target_valid)\n"
      ],
      "metadata": {
        "id": "hJ-mCR8ewqaX"
      },
      "execution_count": 36,
      "outputs": []
    },
    {
      "cell_type": "code",
      "source": [
        "#Move and delete folder : Early Blight and Potato Early Blight from Train\n",
        "import shutil\n",
        "import os\n",
        "\n",
        "# Define the source and target paths\n",
        "source_folder = '/content/drive/MyDrive/Plant_Detection_Project/Disease_Labels/PlantDiseasesDataset/Potato/train/Early_blight'\n",
        "target_folder = '/content/drive/MyDrive/Plant_Detection_Project/Disease_Labels/PlantDiseasesDataset/Potato/train/Potato Early blight'\n",
        "\n",
        "# Create the target folder if it doesn't exist\n",
        "os.makedirs(target_folder, exist_ok=True)\n",
        "\n",
        "# Copy all images from source to target folder\n",
        "for img in os.listdir(source_folder):\n",
        "    img_path = os.path.join(source_folder, img)\n",
        "    if os.path.isfile(img_path):\n",
        "        shutil.copy(img_path, target_folder)\n",
        "\n",
        "# After copying, delete the original Early_blight folder and its contents\n",
        "shutil.rmtree(source_folder)\n",
        "\n",
        "print(f\"All images copied to {target_folder} and the source folder {source_folder} has been deleted.\")\n"
      ],
      "metadata": {
        "colab": {
          "base_uri": "https://localhost:8080/"
        },
        "id": "5K-4L-rpwuUJ",
        "outputId": "9519fee7-afb1-4f78-b4d9-e1cbc00a95e1"
      },
      "execution_count": 38,
      "outputs": [
        {
          "output_type": "stream",
          "name": "stdout",
          "text": [
            "All images copied to /content/drive/MyDrive/Plant_Detection_Project/Disease_Labels/PlantDiseasesDataset/Potato/train/Potato Early blight and the source folder /content/drive/MyDrive/Plant_Detection_Project/Disease_Labels/PlantDiseasesDataset/Potato/train/Early_blight has been deleted.\n"
          ]
        }
      ]
    },
    {
      "cell_type": "code",
      "source": [
        "#Move and delete for late blight : Late Blight and Potato Late Blight\n",
        "\n",
        "import shutil\n",
        "import os\n",
        "\n",
        "# Define the source and target paths\n",
        "source_folder = '/content/drive/MyDrive/Plant_Detection_Project/Disease_Labels/PlantDiseasesDataset/Potato/train/Late_blight'\n",
        "target_folder = '/content/drive/MyDrive/Plant_Detection_Project/Disease_Labels/PlantDiseasesDataset/Potato/train/Potato Late blight'\n",
        "\n",
        "# Create the target folder if it doesn't exist\n",
        "os.makedirs(target_folder, exist_ok=True)\n",
        "\n",
        "# Copy all images from source to target folder\n",
        "for img in os.listdir(source_folder):\n",
        "    img_path = os.path.join(source_folder, img)\n",
        "    if os.path.isfile(img_path):\n",
        "        shutil.copy(img_path, target_folder)\n",
        "\n",
        "# After copying, delete the original Late_blight folder and its contents\n",
        "shutil.rmtree(source_folder)\n",
        "\n",
        "print(f\"All images copied to {target_folder} and the source folder {source_folder} has been deleted.\")\n"
      ],
      "metadata": {
        "colab": {
          "base_uri": "https://localhost:8080/"
        },
        "id": "4k3zMNhKz_Ng",
        "outputId": "3d490036-815f-4048-8d70-7d29c5dc5f2d"
      },
      "execution_count": 40,
      "outputs": [
        {
          "output_type": "stream",
          "name": "stdout",
          "text": [
            "All images copied to /content/drive/MyDrive/Plant_Detection_Project/Disease_Labels/PlantDiseasesDataset/Potato/train/Potato Late blight and the source folder /content/drive/MyDrive/Plant_Detection_Project/Disease_Labels/PlantDiseasesDataset/Potato/train/Late_blight has been deleted.\n"
          ]
        }
      ]
    },
    {
      "cell_type": "code",
      "source": [
        "import shutil\n",
        "import os\n",
        "\n",
        "# Define the source and target paths\n",
        "source_folder = '/content/drive/MyDrive/Plant_Detection_Project/Disease_Labels/PlantDiseasesDataset/Potato/train/Healthy'\n",
        "target_folder = '/content/drive/MyDrive/Plant_Detection_Project/Disease_Labels/PlantDiseasesDataset/Potato/train/Potato Healthy'\n",
        "\n",
        "# Create the target folder if it doesn't exist\n",
        "os.makedirs(target_folder, exist_ok=True)\n",
        "\n",
        "# Copy all images from source to target folder\n",
        "for img in os.listdir(source_folder):\n",
        "    img_path = os.path.join(source_folder, img)\n",
        "    if os.path.isfile(img_path):\n",
        "        shutil.copy(img_path, target_folder)\n",
        "\n",
        "# After copying, delete the original Healthy folder and its contents\n",
        "shutil.rmtree(source_folder)\n",
        "\n",
        "print(f\"All images copied to {target_folder} and the source folder {source_folder} has been deleted.\")\n"
      ],
      "metadata": {
        "colab": {
          "base_uri": "https://localhost:8080/"
        },
        "id": "b3piJFun0tiA",
        "outputId": "69f21233-8256-4324-901a-adee825e3bf9"
      },
      "execution_count": 41,
      "outputs": [
        {
          "output_type": "stream",
          "name": "stdout",
          "text": [
            "All images copied to /content/drive/MyDrive/Plant_Detection_Project/Disease_Labels/PlantDiseasesDataset/Potato/train/Potato Healthy and the source folder /content/drive/MyDrive/Plant_Detection_Project/Disease_Labels/PlantDiseasesDataset/Potato/train/Healthy has been deleted.\n"
          ]
        }
      ]
    },
    {
      "cell_type": "code",
      "source": [],
      "metadata": {
        "id": "G1zDHhcR1Lqz"
      },
      "execution_count": null,
      "outputs": []
    }
  ]
}